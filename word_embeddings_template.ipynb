{
  "nbformat": 4,
  "nbformat_minor": 0,
  "metadata": {
    "colab": {
      "provenance": [],
      "include_colab_link": true
    },
    "kernelspec": {
      "name": "python3",
      "display_name": "Python 3"
    },
    "language_info": {
      "name": "python"
    },
    "gpuClass": "standard"
  },
  "cells": [
    {
      "cell_type": "markdown",
      "metadata": {
        "id": "view-in-github",
        "colab_type": "text"
      },
      "source": [
        "<a href=\"https://colab.research.google.com/github/davidyxwu/word-embeddings/blob/main/word_embeddings_template.ipynb\" target=\"_parent\"><img src=\"https://colab.research.google.com/assets/colab-badge.svg\" alt=\"Open In Colab\"/></a>"
      ]
    },
    {
      "cell_type": "code",
      "execution_count": null,
      "metadata": {
        "id": "KD64Xf-acT3E",
        "colab": {
          "base_uri": "https://localhost:8080/"
        },
        "outputId": "f0805518-1c93-462c-9a0f-005bf5229a63"
      },
      "outputs": [
        {
          "output_type": "stream",
          "name": "stdout",
          "text": [
            "Looking in indexes: https://pypi.org/simple, https://us-python.pkg.dev/colab-wheels/public/simple/\n",
            "Requirement already satisfied: torchdata in /usr/local/lib/python3.8/dist-packages (0.5.1)\n",
            "Requirement already satisfied: portalocker>=2.0.0 in /usr/local/lib/python3.8/dist-packages (from torchdata) (2.7.0)\n",
            "Requirement already satisfied: urllib3>=1.25 in /usr/local/lib/python3.8/dist-packages (from torchdata) (1.26.14)\n",
            "Requirement already satisfied: torch==1.13.1 in /usr/local/lib/python3.8/dist-packages (from torchdata) (1.13.1+cu116)\n",
            "Requirement already satisfied: requests in /usr/local/lib/python3.8/dist-packages (from torchdata) (2.25.1)\n",
            "Requirement already satisfied: typing-extensions in /usr/local/lib/python3.8/dist-packages (from torch==1.13.1->torchdata) (4.5.0)\n",
            "Requirement already satisfied: idna<3,>=2.5 in /usr/local/lib/python3.8/dist-packages (from requests->torchdata) (2.10)\n",
            "Requirement already satisfied: chardet<5,>=3.0.2 in /usr/local/lib/python3.8/dist-packages (from requests->torchdata) (4.0.0)\n",
            "Requirement already satisfied: certifi>=2017.4.17 in /usr/local/lib/python3.8/dist-packages (from requests->torchdata) (2022.12.7)\n"
          ]
        }
      ],
      "source": [
        "!pip3 install torchdata\n",
        "\n",
        "import torch\n",
        "import sys\n",
        "import random\n",
        "from torchtext.datasets import IMDB, CoLA\n",
        "from torchtext.data.utils import get_tokenizer\n",
        "from torchtext.vocab import build_vocab_from_iterator, GloVe, FastText, vocab\n",
        "from torch.utils.data import DataLoader\n",
        "from torch.nn.utils.rnn import pad_sequence\n",
        "import torch.nn as nn\n",
        "import torch.optim as optim\n",
        "from torch.nn.utils.rnn import pack_padded_sequence, pad_packed_sequence\n",
        "import torch.nn.functional as F\n",
        "import numpy as np\n",
        "import gc\n",
        "\n",
        "import tqdm"
      ]
    },
    {
      "cell_type": "markdown",
      "source": [
        "\n",
        "\n",
        "Set Seed"
      ],
      "metadata": {
        "id": "Q3HynaW-CT8Y"
      }
    },
    {
      "cell_type": "code",
      "source": [
        "SEED = 0\n",
        "torch.manual_seed(SEED)"
      ],
      "metadata": {
        "id": "pVkpKYrjdsQn",
        "colab": {
          "base_uri": "https://localhost:8080/"
        },
        "outputId": "c61074ef-bb4e-4ceb-8dd6-bf3d68337410"
      },
      "execution_count": null,
      "outputs": [
        {
          "output_type": "execute_result",
          "data": {
            "text/plain": [
              "<torch._C.Generator at 0x7fe21bb4c290>"
            ]
          },
          "metadata": {},
          "execution_count": 2
        }
      ]
    },
    {
      "cell_type": "markdown",
      "source": [
        "Fix Model & Dataset Parameters for all experiments\n",
        "\n",
        "For Experiment run:\n",
        "\n",
        "emb_size = 300\n",
        "\n",
        "hid_size = 200\n",
        "\n",
        "out_size = 2\n",
        "\n",
        "n_layers = 2\n",
        "\n",
        "dropout_rate = 0.5\n",
        "\n",
        "lr = 10e-4\n",
        "\n",
        "IMDB_batch_size = 32\n",
        "\n",
        "cola_batch_size = 4\n",
        "\n",
        "epochs = 20"
      ],
      "metadata": {
        "id": "h6ys1MKElql9"
      }
    },
    {
      "cell_type": "code",
      "source": [
        "emb_size = 300\n",
        "hid_size = 200\n",
        "out_size = 2\n",
        "n_layers = 2\n",
        "dropout_rate = 0.5\n",
        "lr = 5e-4\n",
        "\n",
        "IMDB_batch_size = 32\n",
        "cola_batch_size = 4\n",
        "\n",
        "epochs = 10"
      ],
      "metadata": {
        "id": "bCrFYyNglpZc"
      },
      "execution_count": null,
      "outputs": []
    },
    {
      "cell_type": "markdown",
      "source": [
        "LSTM Model:"
      ],
      "metadata": {
        "id": "VizDJOU_CR_4"
      }
    },
    {
      "cell_type": "code",
      "source": [
        "class LSTM(nn.Module):\n",
        "    def __init__(self, vocab_size, emb_size, hid_size, out_size, n_layers, dropout_rate, pad_index, pretrained_vec=None, freeze=True):\n",
        "        super(LSTM, self).__init__()\n",
        "        self.vocab_size = vocab_size\n",
        "        self.emb_size = emb_size\n",
        "        self.hid_size = hid_size\n",
        "        self.out_size = out_size\n",
        "        self.dropout_rate = dropout_rate\n",
        "        \"\"\"\n",
        "        Layers\n",
        "        \"\"\"\n",
        "        # Check for pretrained vectors and freezing\n",
        "        if pretrained_vec is not None:\n",
        "          self.emb = nn.Embedding.from_pretrained(pretrained_vec, freeze=freeze, padding_idx=pad_index)\n",
        "        else:\n",
        "          self.emb = nn.Embedding(self.vocab_size, self.emb_size, padding_idx=pad_index)\n",
        "        self.dropout = nn.Dropout(p=self.dropout_rate)\n",
        "        self.lstm = nn.LSTM(self.emb_size, self.hid_size, n_layers, dropout=self.dropout_rate, batch_first=True)\n",
        "        self.fc = nn.Linear(self.hid_size, self.out_size)\n",
        "\n",
        "    def forward(self, inputs, lengths):\n",
        "        embeddings = self.emb(inputs)\n",
        "        packed_embedding = pack_padded_sequence(embeddings, lengths.to('cpu'), batch_first=True, enforce_sorted=False)\n",
        "        lstm_out, (hidden, cell) = self.lstm(packed_embedding)\n",
        "        output, output_len = pad_packed_sequence(lstm_out)\n",
        "        hidden = self.dropout(hidden[-1])\n",
        "        out = self.dropout(hidden)\n",
        "        out = self.fc(out)\n",
        "        return out"
      ],
      "metadata": {
        "id": "NXZUCs8qCQ3e"
      },
      "execution_count": null,
      "outputs": []
    },
    {
      "cell_type": "markdown",
      "source": [
        "Download vectors (TAKES A LONG TIME!!!!) \n",
        "\n",
        "---\n",
        "\n"
      ],
      "metadata": {
        "id": "yTaqp8oV6duP"
      }
    },
    {
      "cell_type": "code",
      "source": [
        "fasttext = FastText('en')\n",
        "#glove = GloVe('6B', dim=300)"
      ],
      "metadata": {
        "id": "G_mxEqd50jEO"
      },
      "execution_count": null,
      "outputs": []
    },
    {
      "cell_type": "markdown",
      "source": [
        "Download dataset and split into train valid test\n",
        "\n"
      ],
      "metadata": {
        "id": "raMENjGQw4de"
      }
    },
    {
      "cell_type": "code",
      "source": [
        "#IMDB_train, IMDB_test = IMDB(split=('train', 'test'))\n",
        "cola_train, cola_valid, cola_test = CoLA(split=('train', 'dev', 'test'))\n",
        "#IMDB_test, IMDB_valid = IMDB_train.random_split(total_length=len(list(IMDB_test)), weights={\"test\": 0.8, \"valid\": 0.2}, seed=torch.initial_seed())\n",
        "def print_split(dataset, train, valid, test):\n",
        "  print(f\"{dataset} Splits: Train size: {len(list(train))} Valid Size: {len(list(valid))} Test Size: {len(list(test))}\")\n",
        "\n",
        "#print_split(\"IMDB\", IMDB_train, IMDB_valid, IMDB_test)\n",
        "print_split(\"CoLA\", cola_train, cola_valid, cola_test)"
      ],
      "metadata": {
        "colab": {
          "base_uri": "https://localhost:8080/"
        },
        "id": "4AZVmHQ9w3tx",
        "outputId": "66f53a54-de65-42ae-8e26-957d7b2e49aa"
      },
      "execution_count": null,
      "outputs": [
        {
          "output_type": "stream",
          "name": "stdout",
          "text": [
            "CoLA Splits: Train size: 8550 Valid Size: 526 Test Size: 515\n"
          ]
        }
      ]
    },
    {
      "cell_type": "markdown",
      "source": [
        "Tokenizer (spacy)"
      ],
      "metadata": {
        "id": "-Cu9C_TkCV8e"
      }
    },
    {
      "cell_type": "code",
      "source": [
        "tokenizer = get_tokenizer(tokenizer='spacy', language='en_core_web_sm')\n",
        "def yield_tokens(data_iter, text_index):\n",
        "    for d in data_iter:\n",
        "        yield tokenizer(d[text_index])"
      ],
      "metadata": {
        "id": "o1Q8wK4C7vfh",
        "colab": {
          "base_uri": "https://localhost:8080/"
        },
        "outputId": "bdcbe8e5-cecb-45ee-f629-a04029905050"
      },
      "execution_count": null,
      "outputs": [
        {
          "output_type": "stream",
          "name": "stderr",
          "text": [
            "/usr/local/lib/python3.8/dist-packages/torch/cuda/__init__.py:497: UserWarning: Can't initialize NVML\n",
            "  warnings.warn(\"Can't initialize NVML\")\n"
          ]
        }
      ]
    },
    {
      "cell_type": "markdown",
      "source": [
        "Build vocabs for untrained and pretrained (Long Time!!!)"
      ],
      "metadata": {
        "id": "YM-9HQeA7-lM"
      }
    },
    {
      "cell_type": "code",
      "source": [
        "def build_vocab(train_set, text_index):\n",
        "  specials=['<PAD>', '<UNK>', '<BOS>', '<EOS>']\n",
        "  built_vocab = {\"untrained\": build_vocab_from_iterator(\n",
        "      yield_tokens(train_set, text_index), specials=specials, min_freq=10), \n",
        "      #\"glove\": vocab(glove.stoi), \n",
        "      \"fasttext\": vocab(fasttext.stoi)\n",
        "      }\n",
        "  \"\"\"\n",
        "  for i in range(len(specials)):\n",
        "    built_vocab[\"glove\"].insert_token(specials[i], i)\n",
        "    built_vocab[\"fasttext\"].insert_token(specials[i], i)\n",
        "  \"\"\"\n",
        "    \n",
        "  built_vocab[\"untrained\"].set_default_index(built_vocab[\"untrained\"]['<UNK>'])\n",
        "  #built_vocab[\"glove\"].set_default_index(built_vocab[\"glove\"]['<UNK>'])\n",
        "  #built_vocab[\"fasttext\"].set_default_index(built_vocab[\"fasttext\"]['<UNK>'])\n",
        "  return built_vocab"
      ],
      "metadata": {
        "id": "q9vM1clP8BQr"
      },
      "execution_count": null,
      "outputs": []
    },
    {
      "cell_type": "markdown",
      "source": [
        "Build Vocabs for datasets (vocab will only be different for the untrained model)\n"
      ],
      "metadata": {
        "id": "mKT8-WjkpMgv"
      }
    },
    {
      "cell_type": "code",
      "source": [
        "#IMDB_vocab = build_vocab(IMDB_train, 1)\n",
        "cola_vocab = build_vocab(cola_train, 2)"
      ],
      "metadata": {
        "id": "lOCjTK4n2SDF"
      },
      "execution_count": null,
      "outputs": []
    },
    {
      "cell_type": "markdown",
      "source": [
        "Build Batches"
      ],
      "metadata": {
        "id": "t4sfwOYb-GZF"
      }
    },
    {
      "cell_type": "markdown",
      "source": [
        "Standardize labels to 0: Negative/unacceptable, 1: Positive/acceptable"
      ],
      "metadata": {
        "id": "n8VkDCr9oEcj"
      }
    },
    {
      "cell_type": "code",
      "source": [
        "IMDB_label_map = {1: 0, 2: 1}\n",
        "cola_label_map = {0: 0, 1: 1}"
      ],
      "metadata": {
        "id": "WxabiTt_n-KG"
      },
      "execution_count": null,
      "outputs": []
    },
    {
      "cell_type": "code",
      "source": [
        "def build_batches(vocab, batch_size, train, valid, test, label_map, label_index, text_index):\n",
        "    text_transform = lambda x: [vocab['<BOS>']] + [vocab[token] for token in tokenizer(x)] + [vocab['<EOS>']]\n",
        "\n",
        "    train_list  = list(train)\n",
        "    valid_list = list(valid)\n",
        "    test_list = list(test)\n",
        "\n",
        "    \"\"\"\n",
        "    Helper functions to generate batches\n",
        "    \"\"\"\n",
        "    def collate_batch(batch):\n",
        "        label_list, text_list, lengths = [], [], []\n",
        "        for b in batch: \n",
        "          label_list.append(label_map[b[label_index]])\n",
        "          processed_text = text_transform(b[text_index])\n",
        "          text_list.append(torch.tensor(processed_text))\n",
        "          lengths.append(len(processed_text))\n",
        "        padded_text = pad_sequence(text_list, padding_value=vocab['<PAD>'], batch_first=True)\n",
        "        return torch.tensor(label_list), padded_text, torch.tensor(lengths) \n",
        "\n",
        "    def batch_sampler(data_list):\n",
        "        indices = [(i, len(tokenizer(s[text_index]))) for i, s in enumerate(data_list)]\n",
        "        random.Random(SEED).shuffle(indices)\n",
        "        pooled_indices = []\n",
        "        # create pool of indices with similar lengths\n",
        "        for i in range(0, len(indices), batch_size * 100):\n",
        "            pooled_indices.extend(sorted(indices[i:i + batch_size * 100], key=lambda x: x[1]))\n",
        "\n",
        "        pooled_indices = [x[0] for x in pooled_indices]\n",
        "\n",
        "        # yield indices for current batch\n",
        "        for i in range(0, len(pooled_indices), batch_size):\n",
        "            yield pooled_indices[i:i + batch_size]\n",
        "\n",
        "    train_iterator = DataLoader(train_list, batch_sampler=batch_sampler(train_list),\n",
        "                                collate_fn=collate_batch)\n",
        "    valid_iterator = DataLoader(valid_list, batch_sampler=batch_sampler(valid_list),\n",
        "                                collate_fn=collate_batch)\n",
        "    test_iterator = DataLoader(test_list, batch_sampler=batch_sampler(test_list),\n",
        "                                collate_fn=collate_batch)\n",
        "    return {\"train\": list(train_iterator), \"valid\": list(valid_iterator), \"test\": list(test_iterator)}"
      ],
      "metadata": {
        "id": "Nn813cFpc_Y-"
      },
      "execution_count": null,
      "outputs": []
    },
    {
      "cell_type": "markdown",
      "source": [
        "Fetch batches"
      ],
      "metadata": {
        "id": "u4Y3oPyO-blE"
      }
    },
    {
      "cell_type": "code",
      "source": [
        "#IMDB_untrained_batches = build_batches(IMDB_vocab[\"untrained\"], IMDB_batch_size, IMDB_train, IMDB_valid, IMDB_test, IMDB_label_map, 0, 1)\n",
        "#IMDB_glove_batches = build_batches(IMDB_vocab[\"glove\"], IMDB_batch_size, IMDB_train, IMDB_valid, IMDB_test)\n",
        "#IMDB_fasttext_batches = build_batches(IMDB_vocab[\"fasttext\"], IMDB_batch_size, IMDB_train, IMDB_valid, IMDB_test)\n",
        "\n",
        "cola_untrained_batches = build_batches(cola_vocab[\"untrained\"], cola_batch_size, cola_train, cola_valid, cola_test, cola_label_map, 1, 2)"
      ],
      "metadata": {
        "id": "wsZ523Sl-lbE"
      },
      "execution_count": null,
      "outputs": []
    },
    {
      "cell_type": "markdown",
      "source": [
        "Prepare Vectors by adding special token vectors"
      ],
      "metadata": {
        "id": "MYnYYXsEAv2K"
      }
    },
    {
      "cell_type": "code",
      "source": [
        "#glove_vectors = torch.cat((torch.zeros(3, glove.vectors.shape[1]), glove.vectors))\n",
        "#fasttext_vectors = torch.cat((torch.zeros(3, fasttext.vectors.shape[1]), fasttext.vectors))"
      ],
      "metadata": {
        "id": "JuhMdBdJEh5q"
      },
      "execution_count": null,
      "outputs": []
    },
    {
      "cell_type": "markdown",
      "source": [
        "Init models"
      ],
      "metadata": {
        "id": "ncLBRljCCkmz"
      }
    },
    {
      "cell_type": "code",
      "source": [
        "#IMDB_untrained_model = LSTM(len(IMDB_vocab[\"untrained\"]), emb_size, hid_size, out_size, n_layers, dropout_rate, IMDB_vocab[\"untrained\"][\"<PAD>\"])\n",
        "cola_untrained_model = LSTM(len(cola_vocab[\"untrained\"]), emb_size, hid_size, out_size, n_layers, dropout_rate, cola_vocab[\"untrained\"][\"<PAD>\"])\n",
        "#glove_model = LSTM(len(IMDB_vocab[\"glove\"]), emb_size, hid_size, out_size, n_layers, dropout_rate, IMDB_vocab[\"glove\"][\"<PAD>\"], pretrained_vec=glove_vectors, freeze=False)\n",
        "#glove_model_frozen = LSTM(len(IMDB_vocab[\"glove\"]), emb_size, hid_size, out_size, n_layers, dropout_rate, IMDB_vocab[\"glove\"][\"<PAD>\"], pretrained_vec=glove_vectors, freeze=True)\n",
        "#fasttext_model = LSTM(len(IMDB_vocab[\"fasttext\"]), emb_size, hid_size, out_size, n_layers, dropout_rate, IMDB_vocab[\"fasttext\"][\"<PAD>\"], pretrained_vec=fasttext_vectors)"
      ],
      "metadata": {
        "id": "HCRs9vfwCmDR"
      },
      "execution_count": null,
      "outputs": []
    },
    {
      "cell_type": "markdown",
      "source": [
        "Print Model Details"
      ],
      "metadata": {
        "id": "IP2_lCVVtDKO"
      }
    },
    {
      "cell_type": "code",
      "source": [
        "def print_model_details(name, model):\n",
        "  print(f\"{name} model details\")\n",
        "  trainable_params = sum(p.numel() for p in model.parameters() if p.requires_grad)\n",
        "  print(model)\n",
        "  print(f\"This model has {trainable_params} trainable parameters\")"
      ],
      "metadata": {
        "id": "dy73m9LItEl9"
      },
      "execution_count": null,
      "outputs": []
    },
    {
      "cell_type": "code",
      "source": [
        "#print_model_details(\"IMDB untrained model\", IMDB_untrained_model)\n",
        "print_model_details(\"CoLA untrained model\", cola_untrained_model)\n"
      ],
      "metadata": {
        "colab": {
          "base_uri": "https://localhost:8080/"
        },
        "id": "jusmRMx3stSH",
        "outputId": "706eadef-cfe9-4a31-8841-173a2ddff33c"
      },
      "execution_count": null,
      "outputs": [
        {
          "output_type": "stream",
          "name": "stdout",
          "text": [
            "CoLA untrained model model details\n",
            "LSTM(\n",
            "  (emb): Embedding(931, 300, padding_idx=0)\n",
            "  (dropout): Dropout(p=0.5, inplace=False)\n",
            "  (lstm): LSTM(300, 200, num_layers=2, batch_first=True, dropout=0.5)\n",
            "  (fc): Linear(in_features=200, out_features=2, bias=True)\n",
            ")\n",
            "This model has 1002902 trainable parameters\n"
          ]
        }
      ]
    },
    {
      "cell_type": "code",
      "source": [
        "# Adam optimizer\n",
        "#IMDB_untrained_optimizer = optim.Adam(IMDB_untrained_model.parameters(), lr=lr)\n",
        "cola_untrained_optimizer = optim.Adam(cola_untrained_model.parameters(), lr=lr)\n",
        "\n",
        "#glove_optimizer = optim.Adam(glove_model.parameters(), lr=lr)\n",
        "#glove_frozen_optimizer = optim.Adam(glove_model_frozen.parameters(), lr=lr)\n",
        "#fasttext_optimizer = optim.Adam(fasttext_model.parameters(), lr=lr)\n",
        "\n",
        "criterion = nn.CrossEntropyLoss()\n",
        "device = torch.device('cuda' if torch.cuda.is_available() else 'cpu')\n",
        "\n",
        "#IMDB_untrained_model = IMDB_untrained_model.to(device)\n",
        "cola_untrained_model = cola_untrained_model.to(device)\n",
        "\n",
        "#glove_model = glove_model.to(device)\n",
        "#glove_model_frozen = glove_model_frozen.to(device)\n",
        "#fasttext_model = fasttext_model.to(device)\n",
        "\n",
        "criterion = criterion.to(device)"
      ],
      "metadata": {
        "id": "mOcEPZchENwT"
      },
      "execution_count": null,
      "outputs": []
    },
    {
      "cell_type": "markdown",
      "source": [
        "Setup Experiments"
      ],
      "metadata": {
        "id": "4nJ1trHBREfT"
      }
    },
    {
      "cell_type": "code",
      "source": [
        "def get_accuracy(prediction, label):\n",
        "    batch_size, _ = prediction.shape\n",
        "    predicted_classes = prediction.argmax(dim=-1)\n",
        "    correct_predictions = predicted_classes.eq(label).sum()\n",
        "    accuracy = correct_predictions / batch_size\n",
        "    return accuracy"
      ],
      "metadata": {
        "id": "IIbFiekjE082"
      },
      "execution_count": null,
      "outputs": []
    },
    {
      "cell_type": "code",
      "source": [
        "def train(dataloader, model, criterion, optimizer, device):\n",
        "\n",
        "    model.train()\n",
        "    epoch_losses = []\n",
        "    epoch_accs = []\n",
        "\n",
        "    for idx, (label, text, lengths) in tqdm.tqdm(enumerate(dataloader), desc='training...', file=sys.stdout):\n",
        "        inputs = text.to(device)\n",
        "        labels = label.to(device)\n",
        "        prediction = model(inputs, lengths)\n",
        "        loss = criterion(prediction, labels)\n",
        "        accuracy = get_accuracy(prediction, labels)\n",
        "        optimizer.zero_grad()\n",
        "        loss.backward()\n",
        "        optimizer.step()\n",
        "        epoch_losses.append(loss.item())\n",
        "        epoch_accs.append(accuracy.item())\n",
        "\n",
        "    return epoch_losses, epoch_accs"
      ],
      "metadata": {
        "id": "oYDG72SMEh0w"
      },
      "execution_count": null,
      "outputs": []
    },
    {
      "cell_type": "code",
      "source": [
        "def evaluate(dataloader, model, criterion, device):\n",
        "    \n",
        "    model.eval()\n",
        "    epoch_losses = []\n",
        "    epoch_accs = []\n",
        "\n",
        "    with torch.no_grad():\n",
        "        for idx, (label, text, lengths) in tqdm.tqdm(enumerate(dataloader), desc='evaluating...', file=sys.stdout):\n",
        "            inputs = text.to(device)\n",
        "            labels = label.to(device)\n",
        "            prediction = model(inputs, lengths)            \n",
        "            loss = criterion(prediction, labels)\n",
        "            accuracy = get_accuracy(prediction, labels)\n",
        "            epoch_losses.append(loss.item())\n",
        "            epoch_accs.append(accuracy.item())\n",
        "\n",
        "    return epoch_losses, epoch_accs"
      ],
      "metadata": {
        "id": "AVZ9wn71Ez9Q"
      },
      "execution_count": null,
      "outputs": []
    },
    {
      "cell_type": "markdown",
      "source": [
        "Returning loss/acc per step"
      ],
      "metadata": {
        "id": "_xXJu1hvDh0n"
      }
    },
    {
      "cell_type": "code",
      "source": [
        "def run_epochs(epochs, model, optimizer, criterion, device, train_set, valid_set, name=\"Model\", filename=\"model.pt\"):\n",
        "  print(name)\n",
        "  print('─' * 20)\n",
        "  \n",
        "  best_valid_loss = float('inf')\n",
        "  train_losses = []\n",
        "  train_accs = []\n",
        "  valid_losses = []\n",
        "  valid_accs = []\n",
        "\n",
        "  epoch_train_losses = []\n",
        "  epoch_train_accs = []\n",
        "  epoch_valid_losses = []\n",
        "  epoch_valid_accs = []\n",
        "\n",
        "  for epoch in range(epochs):\n",
        "    train_loss, train_acc = train(train_set, model, criterion, optimizer, device)\n",
        "    valid_loss, valid_acc = evaluate(valid_set, model, criterion, device)\n",
        "\n",
        "    train_losses.extend(train_loss)\n",
        "    train_accs.extend(train_acc)\n",
        "    valid_losses.extend(valid_loss)\n",
        "    valid_accs.extend(valid_acc)\n",
        "\n",
        "    epoch_train_loss = np.mean(train_loss)\n",
        "    epoch_train_acc = np.mean(train_acc)\n",
        "    epoch_valid_loss = np.mean(valid_loss)\n",
        "    epoch_valid_acc = np.mean(valid_acc)\n",
        "\n",
        "    epoch_train_losses.append(epoch_train_loss)\n",
        "    epoch_train_accs.append(epoch_train_acc)\n",
        "    epoch_valid_losses.append(epoch_valid_loss)\n",
        "    epoch_valid_accs.append(epoch_valid_acc)\n",
        "\n",
        "    if epoch_valid_loss < best_valid_loss:\n",
        "      best_valid_loss = epoch_valid_loss\n",
        "      torch.save(model.state_dict(), filename)\n",
        "    \n",
        "    print(f'Epoch: {epoch + 1}')\n",
        "    print(f'Train Loss: {epoch_train_loss:.3f}, Train Acc: {epoch_train_acc:.3f}')\n",
        "    print(f'Valid Loss: {epoch_valid_loss:.3f}, Valid Acc: {epoch_valid_acc:.3f}\\n')\n",
        "  return {\"train_losses\": train_losses, \"train_accs\": train_accs, \"valid_losses\": valid_losses, \"valid_accs\": valid_accs,\n",
        "          \"epoch_train_losses\": epoch_train_losses, \"epoch_train_accs\": epoch_train_accs, \"epoch_valid_losses\": epoch_valid_losses, \"epoch_valid_accs\": epoch_valid_accs}"
      ],
      "metadata": {
        "id": "3HgEiiXi56B4"
      },
      "execution_count": null,
      "outputs": []
    },
    {
      "cell_type": "markdown",
      "source": [
        "Experiment!"
      ],
      "metadata": {
        "id": "E_p3O7sgRjC-"
      }
    },
    {
      "cell_type": "code",
      "source": [
        "#IMDB_untrained_stats = run_epochs(epochs, IMDB_untrained_model, IMDB_untrained_optimizer, criterion, device, IMDB_untrained_batches[\"train\"], IMDB_untrained_batches[\"valid\"], \"UNTRAINED IMDB MODEL\", \"IMDB_untrained_model.pt\")"
      ],
      "metadata": {
        "id": "6QSCkD_DE4Ug"
      },
      "execution_count": null,
      "outputs": []
    },
    {
      "cell_type": "code",
      "source": [
        "cola_untrained_stats = run_epochs(epochs, cola_untrained_model, cola_untrained_optimizer, criterion, device, cola_untrained_batches[\"train\"], cola_untrained_batches[\"valid\"], \"UNTRAINED COLA MODEL\", \"cola_untrained_model.pt\")"
      ],
      "metadata": {
        "colab": {
          "base_uri": "https://localhost:8080/"
        },
        "id": "h5VHRilqwY46",
        "outputId": "bc4192e9-57a1-415b-8282-d871eefeb366"
      },
      "execution_count": null,
      "outputs": [
        {
          "output_type": "stream",
          "name": "stdout",
          "text": [
            "UNTRAINED COLA MODEL\n",
            "────────────────────\n",
            "training...: 2138it [01:01, 34.73it/s]\n",
            "evaluating...: 132it [00:00, 232.05it/s]\n",
            "Train Loss: 0.552, Train Acc: 0.737\n",
            "Valid Loss: 0.629, Valid Acc: 0.674\n",
            "\n",
            "training...: 2138it [01:10, 30.18it/s]\n",
            "evaluating...: 132it [00:00, 224.71it/s]\n",
            "Train Loss: 0.499, Train Acc: 0.766\n",
            "Valid Loss: 0.650, Valid Acc: 0.676\n",
            "\n"
          ]
        }
      ]
    },
    {
      "cell_type": "code",
      "source": [
        "print(cola_untrained_stats[\"epoch_train_accs\"], cola_untrained_stats[\"epoch_train_losses\"])\n",
        "print(cola_untrained_stats[\"epoch_valid_accs\"], cola_untrained_stats[\"epoch_valid_losses\"])"
      ],
      "metadata": {
        "colab": {
          "base_uri": "https://localhost:8080/"
        },
        "id": "gtWrVUe51DvX",
        "outputId": "a4f55f44-9522-4a73-8ee4-739237e2c024"
      },
      "execution_count": null,
      "outputs": [
        {
          "output_type": "stream",
          "name": "stdout",
          "text": [
            "[0.7371375116931712, 0.7663704396632367] [0.5521027746464852, 0.4988251667943678]\n",
            "[0.6742424242424242, 0.6761363636363636] [0.6288332871415399, 0.6503873447125609]\n"
          ]
        }
      ]
    },
    {
      "cell_type": "markdown",
      "source": [
        "TEST"
      ],
      "metadata": {
        "id": "wA1JIbs7S8mT"
      }
    },
    {
      "cell_type": "code",
      "source": [
        "def test(model, test_set, criterion, device, name=\"Model\", filename=\"model.pt\"):\n",
        "  model.load_state_dict(torch.load(filename))\n",
        "  model.eval()\n",
        "\n",
        "  epoch_predictions = []\n",
        "  epoch_true_labels = []\n",
        "  epoch_losses = []\n",
        "  epoch_accs = []\n",
        "\n",
        "  with torch.no_grad():\n",
        "      for idx, (label, text, lengths) in tqdm.tqdm(enumerate(test_set), desc='evaluating...', file=sys.stdout):\n",
        "          inputs = text.to(device)\n",
        "          labels = label.to(device)\n",
        "          prediction = model(inputs, lengths)            \n",
        "          loss = criterion(prediction, labels)\n",
        "\n",
        "          epoch_true_labels.extend(labels.cpu().numpy())\n",
        "          epoch_predictions.extend(prediction.cpu().argmax(dim=-1).numpy())\n",
        "\n",
        "          accuracy = get_accuracy(prediction, labels)\n",
        "          epoch_losses.append(loss.item())\n",
        "          epoch_accs.append(accuracy.item())\n",
        "\n",
        "  total_test_loss, total_test_acc = np.mean(epoch_losses), np.mean(epoch_accs)\n",
        "  print(f\"Model: {name}, Test Loss: {total_test_loss:.3f}, Test Acc: {total_test_acc:.3f}\")\n",
        "  return epoch_predictions, epoch_true_labels"
      ],
      "metadata": {
        "id": "qbvRL-noJ63I"
      },
      "execution_count": null,
      "outputs": []
    },
    {
      "cell_type": "code",
      "source": [
        "#IMDB_untrained_predictions, IMDB_true = test(IMDB_untrained_model, IMDB_untrained_batches[\"test\"], criterion, device, \"UNTRAINED IMDB MODEL\", \"IMDB_untrained_model.pt\")"
      ],
      "metadata": {
        "id": "lPpN-NonnAV3"
      },
      "execution_count": null,
      "outputs": []
    },
    {
      "cell_type": "code",
      "source": [
        "cola_untrained_predictions, cola_untrained_true = test(cola_untrained_model, cola_untrained_batches[\"test\"], criterion, device, \"UNTRAINED COLA MODEL\", \"cola_untrained_model.pt\")"
      ],
      "metadata": {
        "colab": {
          "base_uri": "https://localhost:8080/"
        },
        "id": "S2dqUo68xB_q",
        "outputId": "f548453e-cb0f-4917-da15-0984c72a256f"
      },
      "execution_count": null,
      "outputs": [
        {
          "output_type": "stream",
          "name": "stdout",
          "text": [
            "evaluating...: 129it [00:00, 193.42it/s]\n",
            "Model: UNTRAINED COLA MODEL, Test Loss: 0.627, Test Acc: 0.676\n"
          ]
        }
      ]
    },
    {
      "cell_type": "markdown",
      "source": [
        "VISUALIZATON"
      ],
      "metadata": {
        "id": "hoq3MHOBveT7"
      }
    },
    {
      "cell_type": "code",
      "source": [
        "import matplotlib as mpl\n",
        "import matplotlib.pyplot as plt\n",
        "import matplotlib.pylab as pylab\n",
        "import seaborn as sns\n",
        "import missingno as msno\n",
        "import itertools\n",
        "from sklearn.metrics import confusion_matrix, classification_report"
      ],
      "metadata": {
        "id": "GzIz4MxWvhBI"
      },
      "execution_count": null,
      "outputs": []
    },
    {
      "cell_type": "markdown",
      "source": [
        "Functions to plot\n"
      ],
      "metadata": {
        "id": "nrV0vySVFCGi"
      }
    },
    {
      "cell_type": "code",
      "source": [
        "# Plot training and validation data\n",
        "def plot(train, valid, train_label, valid_label, x_label, y_label, title, epochs):\n",
        "  fig = plt.figure(figsize=(10, 6))\n",
        "  ax = fig.add_subplot(1, 1, 1)\n",
        "  ax.title.set_text(title)\n",
        "  ax.plot(range(1, epochs + 1), train, label=train_label, marker='o')\n",
        "  ax.plot(range(1, epochs + 1), valid, label=valid_label, marker='o')\n",
        "  ax.set_xticks(range(1, epochs + 1))\n",
        "  plt.legend()\n",
        "  ax.set_xlabel(x_label)\n",
        "  ax.set_ylabel(y_label)"
      ],
      "metadata": {
        "id": "IE2prl7ADwCx"
      },
      "execution_count": null,
      "outputs": []
    },
    {
      "cell_type": "code",
      "source": [
        "def plot_confusion_matrix(cm, classes,\n",
        "                          normalize=False,\n",
        "                          title='Confusion matrix',\n",
        "                          cmap=plt.cm.Blues):\n",
        "    \n",
        "    plt.imshow(cm, interpolation='nearest', cmap=cmap)\n",
        "    plt.title(title)\n",
        "    plt.colorbar()\n",
        "    tick_marks = np.arange(len(classes))\n",
        "    plt.xticks(tick_marks, classes, rotation=90)\n",
        "    plt.yticks(tick_marks, classes)\n",
        "\n",
        "    if normalize:\n",
        "        cm = cm.astype('float') / cm.sum(axis=1)[:, np.newaxis]\n",
        "\n",
        "    thresh = cm.max() / 2.\n",
        "    for i, j in itertools.product(range(cm.shape[0]), range(cm.shape[1])):\n",
        "        plt.text(j, i, cm[i, j],\n",
        "                 horizontalalignment=\"center\",\n",
        "                 color=\"white\" if cm[i, j] > thresh else \"black\")\n",
        "\n",
        "    plt.tight_layout()\n",
        "    plt.ylabel('True label')\n",
        "    plt.xlabel('Predicted label')"
      ],
      "metadata": {
        "id": "LaUttuUaLA0u"
      },
      "execution_count": null,
      "outputs": []
    },
    {
      "cell_type": "markdown",
      "source": [
        "Plots"
      ],
      "metadata": {
        "id": "pRqvenR0EulL"
      }
    },
    {
      "cell_type": "markdown",
      "source": [
        "Epoch Accuraccy"
      ],
      "metadata": {
        "id": "0lMIy0vVx6tJ"
      }
    },
    {
      "cell_type": "code",
      "source": [
        "plot(cola_untrained_stats[\"epoch_train_accs\"], cola_untrained_stats[\"epoch_valid_accs\"], \"Train acc\", \"Valid acc\", \"Epoch\", \"Acc\", \"Title\", epochs)"
      ],
      "metadata": {
        "colab": {
          "base_uri": "https://localhost:8080/",
          "height": 388
        },
        "id": "3leLB680EuJ5",
        "outputId": "bbe2dbb6-edfc-4263-e942-2cd0a9c7ea6e"
      },
      "execution_count": null,
      "outputs": [
        {
          "output_type": "display_data",
          "data": {
            "text/plain": [
              "<Figure size 720x432 with 1 Axes>"
            ],
            "image/png": "[encoded data removed]"
          },
          "metadata": {
            "needs_background": "light"
          }
        }
      ]
    },
    {
      "cell_type": "code",
      "source": [
        "plot(cola_untrained_stats[\"epoch_train_losses\"], cola_untrained_stats[\"epoch_valid_losses\"], \"Train loss\", \"Valid loss\", \"Epoch\", \"loss\", \"Title\", epochs)"
      ],
      "metadata": {
        "colab": {
          "base_uri": "https://localhost:8080/",
          "height": 388
        },
        "id": "mdh9R95oyAoN",
        "outputId": "808fbdee-21a5-4ff7-cd91-46c92f9b3521"
      },
      "execution_count": null,
      "outputs": [
        {
          "output_type": "display_data",
          "data": {
            "text/plain": [
              "<Figure size 720x432 with 1 Axes>"
            ],
            "image/png": "[encoded data removed]"
          },
          "metadata": {
            "needs_background": "light"
          }
        }
      ]
    },
    {
      "cell_type": "markdown",
      "source": [
        "Confusion Matrix\n",
        "\n",
        "For CoLA, labels are Not Acceptable and Acceptable\n",
        "\n",
        "For IMDB, labels are Negative and Positive"
      ],
      "metadata": {
        "id": "an6jONO_K2m8"
      }
    },
    {
      "cell_type": "code",
      "source": [
        "untrained_cola_confusion_matrix = confusion_matrix(cola_untrained_true, cola_untrained_predictions)\n",
        "plot_confusion_matrix(untrained_cola_confusion_matrix, classes=['Not Acceptable', 'Acceptable'], title='Untrained Model Confusion Matrix')"
      ],
      "metadata": {
        "colab": {
          "base_uri": "https://localhost:8080/",
          "height": 311
        },
        "id": "kqGfIpK1K372",
        "outputId": "be4e268b-8b74-4e87-b5b9-1e411bd9f348"
      },
      "execution_count": null,
      "outputs": [
        {
          "output_type": "display_data",
          "data": {
            "text/plain": [
              "<Figure size 432x288 with 2 Axes>"
            ],
            "image/png": "[encoded data removed]"
          },
          "metadata": {
            "needs_background": "light"
          }
        }
      ]
    },
    {
      "cell_type": "markdown",
      "source": [
        "Print Final Metrics"
      ],
      "metadata": {
        "id": "7LZVrOyG1gG3"
      }
    },
    {
      "cell_type": "code",
      "source": [
        "def print_model_metrics(model_name, true, predicted, target_names=None):\n",
        "  print(f\"{model_name} metrics:\")\n",
        "  print(classification_report(true, predicted, target_names=target_names))"
      ],
      "metadata": {
        "id": "UWotDGSO1hzV"
      },
      "execution_count": null,
      "outputs": []
    },
    {
      "cell_type": "code",
      "source": [
        "print_model_metrics(\"Untrained CoLA Model\", cola_untrained_true, cola_untrained_predictions, target_names=['Not Acceptable', 'Acceptable'])"
      ],
      "metadata": {
        "colab": {
          "base_uri": "https://localhost:8080/"
        },
        "id": "M7YDiBrm4oRa",
        "outputId": "a3c24455-92b1-4381-ccc0-732717344a73"
      },
      "execution_count": null,
      "outputs": [
        {
          "output_type": "stream",
          "name": "stdout",
          "text": [
            "Untrained CoLA Model metrics:\n",
            "                precision    recall  f1-score   support\n",
            "\n",
            "Not Acceptable       0.44      0.10      0.17       162\n",
            "    Acceptable       0.70      0.94      0.80       353\n",
            "\n",
            "      accuracy                           0.68       515\n",
            "     macro avg       0.57      0.52      0.48       515\n",
            "  weighted avg       0.61      0.68      0.60       515\n",
            "\n"
          ]
        }
      ]
    }
  ]
}